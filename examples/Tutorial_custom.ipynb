{
 "cells": [
  {
   "cell_type": "markdown",
   "metadata": {},
   "source": [
    "# Simularium Conversion Tutorial : Custom Data"
   ]
  },
  {
   "cell_type": "code",
   "execution_count": 1,
   "metadata": {},
   "outputs": [],
   "source": [
    "from IPython.display import Image\n",
    "import numpy as np\n",
    "from simulariumio import (\n",
    "    TrajectoryConverter, \n",
    "    TrajectoryData, \n",
    "    AgentData, \n",
    "    UnitData, \n",
    "    MetaData, \n",
    "    ModelMetaData,\n",
    "    CameraData, \n",
    "    DisplayData,\n",
    "    DISPLAY_TYPE,\n",
    ")"
   ]
  },
  {
   "cell_type": "markdown",
   "metadata": {},
   "source": [
    "This notebook provides example python code for converting your own simulation trajectories into the format consumed by the Simularium Viewer. It creates a .simularium file which you can drag and drop onto the viewer like this:"
   ]
  },
  {
   "cell_type": "markdown",
   "metadata": {},
   "source": [
    "![title](img/drag_drop.gif)"
   ]
  },
  {
   "cell_type": "markdown",
   "metadata": {},
   "source": [
    "***\n",
    "## Prepare your spatial data"
   ]
  },
  {
   "cell_type": "markdown",
   "metadata": {},
   "source": [
    "The Simularium custom data Converter consumes spatiotemporal data from any source. It requires a `TrajectoryData` object as parameter ([see documentation](https://simularium.github.io/simulariumio/simulariumio.data_objects.html#simulariumio.data_objects.trajectory_data.TrajectoryData)).\n",
    "\n",
    "If you'd like to specify PDB or OBJ files or color for rendering an agent type, add a `DisplayData` object for that agent type, as shown below ([see documentation](https://simularium.github.io/simulariumio/simulariumio.data_objects.html#module-simulariumio.data_objects.display_data)).\n"
   ]
  },
  {
   "cell_type": "markdown",
   "metadata": {},
   "source": [
    "### Generate example data"
   ]
  },
  {
   "cell_type": "markdown",
   "metadata": {},
   "source": [
    "To demonstrate using the custom converter, we'll first generate some random example data."
   ]
  },
  {
   "cell_type": "markdown",
   "metadata": {},
   "source": [
    "#### If there are NO fibers in the data:"
   ]
  },
  {
   "cell_type": "code",
   "execution_count": 2,
   "metadata": {},
   "outputs": [],
   "source": [
    "from string import ascii_uppercase\n",
    "from random import choice\n",
    "\n",
    "# parameters\n",
    "total_steps = 5\n",
    "timestep = 0.5\n",
    "box_size = 100\n",
    "n_agents = 5\n",
    "min_radius = 5\n",
    "max_radius = 10\n",
    "\n",
    "type_names = []\n",
    "for t in range(total_steps):\n",
    "    type_names.append([choice(ascii_uppercase) for i in range(n_agents)])\n",
    "    \n",
    "example_default_data = TrajectoryData(\n",
    "    meta_data=MetaData(\n",
    "        box_size=np.array([box_size, box_size, box_size]),\n",
    "        camera_defaults=CameraData(\n",
    "            position=np.array([10.0, 0.0, 200.0]),\n",
    "            look_at_position=np.array([10.0, 0.0, 0.0]),\n",
    "            fov_degrees=60.0,\n",
    "        ),\n",
    "        trajectory_title=\"Some parameter set\",\n",
    "        model_meta_data=ModelMetaData(\n",
    "            title=\"Some agent-based model\",\n",
    "            version=\"8.1\",\n",
    "            authors=\"A Modeler\",\n",
    "            description=(\n",
    "                \"An agent-based model run with some parameter set\"\n",
    "            ),\n",
    "            doi=\"10.1016/j.bpj.2016.02.002\",\n",
    "            source_code_url=\"https://github.com/simularium/simulariumio\",\n",
    "            source_code_license_url=\"https://github.com/simularium/simulariumio/blob/main/LICENSE\",\n",
    "            input_data_url=\"https://allencell.org/path/to/native/engine/input/files\",\n",
    "            raw_output_data_url=\"https://allencell.org/path/to/native/engine/output/files\",\n",
    "        ),\n",
    "    ),\n",
    "    agent_data=AgentData(\n",
    "        times=timestep * np.array(list(range(total_steps))),\n",
    "        n_agents=np.array(total_steps * [n_agents]),\n",
    "        viz_types=np.array(total_steps * [n_agents * [1000.0]]),  # default viz type = 1000\n",
    "        unique_ids=np.array(total_steps * [list(range(n_agents))]),\n",
    "        types=type_names,\n",
    "        positions=np.random.uniform(size=(total_steps, n_agents, 3)) * box_size - box_size * 0.5,\n",
    "        radii=(max_radius - min_radius) * np.random.uniform(size=(total_steps, n_agents)) + min_radius,\n",
    "        display_data={\n",
    "            type_names[0][0]: DisplayData(\n",
    "                name=\"Molecule A\",\n",
    "                display_type=DISPLAY_TYPE.PDB,\n",
    "                url=\"https://files.rcsb.org/download/3KIN.pdb\",\n",
    "                color=\"#0080ff\",\n",
    "            ),\n",
    "        },\n",
    "    ),\n",
    "    time_units=UnitData(\"ns\"),  # nanoseconds\n",
    "    spatial_units=UnitData(\"nm\"),  # nanometers\n",
    ")"
   ]
  },
  {
   "cell_type": "markdown",
   "metadata": {},
   "source": [
    "#### Otherwise:"
   ]
  },
  {
   "cell_type": "code",
   "execution_count": 3,
   "metadata": {},
   "outputs": [],
   "source": [
    "from string import ascii_uppercase\n",
    "from random import choice\n",
    "\n",
    "# parameters\n",
    "total_steps = 5\n",
    "timestep = 0.5\n",
    "box_size = 100\n",
    "n_agents = 5\n",
    "min_radius = 5\n",
    "max_radius = 10\n",
    "points_per_fiber = 4\n",
    "\n",
    "type_names = []\n",
    "for t in range(total_steps):\n",
    "    type_names.append([choice(ascii_uppercase) for i in range(n_agents)])\n",
    "\n",
    "example_fiber_data = TrajectoryData(\n",
    "    meta_data=MetaData(\n",
    "        box_size=np.array([box_size, box_size, box_size]),\n",
    "        camera_defaults=CameraData(\n",
    "            position=np.array([10.0, 0.0, 200.0]),\n",
    "            look_at_position=np.array([10.0, 0.0, 0.0]),\n",
    "            fov_degrees=60.0,\n",
    "        ),\n",
    "        trajectory_title=\"Some parameter set\",\n",
    "        model_meta_data=ModelMetaData(\n",
    "            title=\"Some agent-based model\",\n",
    "            version=\"8.1\",\n",
    "            authors=\"A Modeler\",\n",
    "            description=(\n",
    "                \"An agent-based model run with some parameter set\"\n",
    "            ),\n",
    "            doi=\"10.1016/j.bpj.2016.02.002\",\n",
    "            source_code_url=\"https://github.com/simularium/simulariumio\",\n",
    "            source_code_license_url=\"https://github.com/simularium/simulariumio/blob/main/LICENSE\",\n",
    "            input_data_url=\"https://allencell.org/path/to/native/engine/input/files\",\n",
    "            raw_output_data_url=\"https://allencell.org/path/to/native/engine/output/files\",\n",
    "        ),\n",
    "    ),\n",
    "    agent_data=AgentData(\n",
    "        times=timestep * np.array(list(range(total_steps))),\n",
    "        n_agents=np.array(total_steps * [n_agents]),\n",
    "        viz_types=np.array(total_steps * [n_agents * [1001.0]]), # fiber viz type = 1001\n",
    "        unique_ids=np.array(total_steps * [list(range(n_agents))]),\n",
    "        types=type_names,\n",
    "        positions=np.zeros(shape=(total_steps, n_agents, 3)),\n",
    "        radii=np.ones(shape=(total_steps, n_agents)),\n",
    "        n_subpoints=points_per_fiber * np.ones(shape=(total_steps, n_agents)),\n",
    "        subpoints=box_size * np.random.uniform(\n",
    "            size=(total_steps, n_agents, points_per_fiber, 3)) - box_size * 0.5,\n",
    "        display_data={\n",
    "            type_names[0][0]: DisplayData(\n",
    "                name=\"X\",\n",
    "                color=\"#0080ff\",\n",
    "            ),\n",
    "        },\n",
    "    ),\n",
    "    time_units=UnitData(\"ns\"),  # nanoseconds\n",
    "    spatial_units=UnitData(\"nm\"),  # nanometers\n",
    ")"
   ]
  },
  {
   "cell_type": "markdown",
   "metadata": {},
   "source": [
    "## Convert and save as .simularium file"
   ]
  },
  {
   "cell_type": "markdown",
   "metadata": {},
   "source": [
    "Once your data is shaped like in the `example_default_data` or `example_fiber_data` object, you can use the converter to generate the file at the given path:"
   ]
  },
  {
   "cell_type": "code",
   "execution_count": 4,
   "metadata": {},
   "outputs": [
    {
     "name": "stdout",
     "output_type": "stream",
     "text": [
      "Converting Trajectory Data to Binary -------------\n",
      "Writing Binary -------------\n",
      "saved to example_fibers.simularium\n",
      "Converting Trajectory Data to Binary -------------\n",
      "Writing Binary -------------\n",
      "saved to example_default.simularium\n"
     ]
    }
   ],
   "source": [
    "TrajectoryConverter(example_fiber_data).save(\"example_fibers\")\n",
    "TrajectoryConverter(example_default_data).save(\"example_default\")"
   ]
  },
  {
   "cell_type": "markdown",
   "metadata": {},
   "source": [
    "## Visualize in the Simularium viewer"
   ]
  },
  {
   "cell_type": "markdown",
   "metadata": {},
   "source": [
    "In a supported web-browser (Firefox or Chrome), navigate to https://simularium.allencell.org/ and import your file into the view."
   ]
  },
  {
   "cell_type": "code",
   "execution_count": null,
   "metadata": {},
   "outputs": [],
   "source": []
  }
 ],
 "metadata": {
  "kernelspec": {
   "display_name": "Python 3 (ipykernel)",
   "language": "python",
   "name": "python3"
  },
  "language_info": {
   "codemirror_mode": {
    "name": "ipython",
    "version": 3
   },
   "file_extension": ".py",
   "mimetype": "text/x-python",
   "name": "python",
   "nbconvert_exporter": "python",
   "pygments_lexer": "ipython3",
   "version": "3.8.13"
  }
 },
 "nbformat": 4,
 "nbformat_minor": 4
}
