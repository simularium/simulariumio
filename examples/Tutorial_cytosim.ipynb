{
 "cells": [
  {
   "cell_type": "markdown",
   "metadata": {},
   "source": [
    "# Simularium Conversion Tutorial : CytoSim Data"
   ]
  },
  {
   "cell_type": "code",
   "execution_count": 1,
   "metadata": {},
   "outputs": [],
   "source": [
    "from IPython.display import Image\n",
    "import numpy as np\n",
    "from simulariumio.cytosim import CytosimConverter, CytosimData, CytosimObjectInfo\n",
    "from simulariumio import MetaData, DisplayData, DISPLAY_TYPE, ModelMetaData, InputFileData"
   ]
  },
  {
   "cell_type": "markdown",
   "metadata": {},
   "source": [
    "This notebook provides example python code for converting your own simulation trajectories into the format consumed by the Simularium Viewer. It creates a .simularium file which you can drag and drop onto the viewer like this:"
   ]
  },
  {
   "cell_type": "markdown",
   "metadata": {},
   "source": [
    "![title](img/drag_drop.gif)"
   ]
  },
  {
   "cell_type": "markdown",
   "metadata": {},
   "source": [
    "***\n",
    "## Prepare your spatial data"
   ]
  },
  {
   "cell_type": "markdown",
   "metadata": {},
   "source": [
    "The Simularium `CytosimConverter` consumes spatiotemporal data from CytoSim. \n",
    "\n",
    "We're working to improve performance for the Cytosim converter, and also working with the Cytosim authors to add the ability to output Simularium files directly from Cytosim. For now, if you find the conversion process is too slow, you can try to record less data from Cytosim, for example record at a larger timestep by adjusting `nb_frames` in the `run` block of your Cytosim `config.cym` file (https://gitlab.com/f.nedelec/cytosim/-/blob/8feaf45297c3f5180d24889909e3a5251a7adb1a/doc/tutorials/tuto_introduction.md).\n",
    "\n",
    "To see how to generate the Cytosim output .txt files you need, check Cytosim documentation here: https://gitlab.com/f.nedelec/cytosim/-/blob/8feaf45297c3f5180d24889909e3a5251a7adb1a/doc/sim/report.md\n",
    "* for Fibers, use the command `./report fiber:points > fiber_points.txt`, which will create `fiber_points.txt`\n",
    "* for Solids, use the command `./report solid > solids.txt`, which will create `solids.txt`\n",
    "* for Singles, use the command `./report single:position > singles.txt`, which will create `singles.txt`\n",
    "* for Couples, use the command `./report couple:state > couples.txt`, which will create `couples.txt`\n",
    "    * in some versions of Cytosim, state is not a reporting option. In this case you can use `./report couple:[name of your couple] > couples_[name of your couple].txt` and provide a filepath for each type of couple in your data. If this is necessary, you should also check the position XYZ columns in your `couples.txt` file and override **position_indices** if they aren't at \\[2, 3, 4\\]\n",
    "\n",
    "The converter requires a `CytosimData` object as parameter ([see documentation](https://simularium.github.io/simulariumio/simulariumio.cytosim.html#simulariumio.cytosim.cytosim_data.CytosimData)).\n",
    "\n",
    "If you'd like to specify PDB or OBJ files or color for rendering an agent type, add a `DisplayData` object for that agent type, as shown below ([see documentation](https://simularium.github.io/simulariumio/simulariumio.data_objects.html#module-simulariumio.data_objects.display_data)).\n"
   ]
  },
  {
   "cell_type": "code",
   "execution_count": 2,
   "metadata": {},
   "outputs": [],
   "source": [
    "box_size = 2.\n",
    "\n",
    "example_data = CytosimData(\n",
    "    meta_data=MetaData(\n",
    "        box_size=np.array([box_size, box_size, box_size]),\n",
    "        scale_factor=10.0,\n",
    "        trajectory_title=\"Some parameter set\",\n",
    "        model_meta_data=ModelMetaData(\n",
    "            title=\"Some agent-based model\",\n",
    "            version=\"8.1\",\n",
    "            authors=\"A Modeler\",\n",
    "            description=(\n",
    "                \"An agent-based model run with some parameter set\"\n",
    "            ),\n",
    "            doi=\"10.1016/j.bpj.2016.02.002\",\n",
    "            source_code_url=\"https://github.com/simularium/simulariumio\",\n",
    "            source_code_license_url=\"https://github.com/simularium/simulariumio/blob/main/LICENSE\",\n",
    "            input_data_url=\"https://allencell.org/path/to/native/engine/input/files\",\n",
    "            raw_output_data_url=\"https://allencell.org/path/to/native/engine/output/files\",\n",
    "        ),\n",
    "    ),\n",
    "    object_info={\n",
    "        \"fibers\" : CytosimObjectInfo(\n",
    "            cytosim_file=InputFileData(\n",
    "                file_path=\"../simulariumio/tests/data/cytosim/aster_pull3D_couples_actin_solid/fiber_points.txt\",\n",
    "            ),\n",
    "            display_data={\n",
    "                1 : DisplayData(\n",
    "                    name=\"microtubule\",\n",
    "                    radius=0.01\n",
    "                ),\n",
    "                2 : DisplayData(\n",
    "                    name=\"actin\",\n",
    "                    radius=0.01\n",
    "                )\n",
    "            }\n",
    "        ),\n",
    "        \"solids\" : CytosimObjectInfo(\n",
    "            cytosim_file=InputFileData(\n",
    "                file_path=\"../simulariumio/tests/data/cytosim/aster_pull3D_couples_actin_solid/solids.txt\",\n",
    "            ),\n",
    "            display_data={\n",
    "                1 : DisplayData(\n",
    "                    name=\"aster\",\n",
    "                    radius=0.1\n",
    "                ),\n",
    "                2 : DisplayData(\n",
    "                    name=\"vesicle\",\n",
    "                    radius=0.02\n",
    "                )\n",
    "            }\n",
    "        ),\n",
    "        \"singles\" : CytosimObjectInfo(\n",
    "            cytosim_file=InputFileData(\n",
    "                file_path=\"../simulariumio/tests/data/cytosim/aster_pull3D_couples_actin_solid/singles.txt\",\n",
    "            ),\n",
    "            display_data={\n",
    "                1 : DisplayData(\n",
    "                    name=\"dynein\",\n",
    "                    radius=0.01,\n",
    "                    display_type=DISPLAY_TYPE.PDB,\n",
    "                    url=\"https://files.rcsb.org/download/3VKH.pdb\",\n",
    "                    color=\"#f4ac1a\",\n",
    "                ),\n",
    "                2 : DisplayData(\n",
    "                    name=\"kinesin\",\n",
    "                    radius=0.01,\n",
    "                    display_type=DISPLAY_TYPE.PDB,\n",
    "                    url=\"https://files.rcsb.org/download/3KIN.pdb\",\n",
    "                    color=\"#0080ff\",\n",
    "                )\n",
    "            }\n",
    "        ),\n",
    "        \"couples\" : CytosimObjectInfo(\n",
    "            cytosim_file=InputFileData(\n",
    "                file_path=\"../simulariumio/tests/data/cytosim/aster_pull3D_couples_actin_solid/couples.txt\",\n",
    "            ),\n",
    "            display_data={\n",
    "                1 : DisplayData(\n",
    "                    name=\"motor complex\",\n",
    "                    radius=0.01,\n",
    "                    color=\"#bf95d4\",\n",
    "                )\n",
    "            },\n",
    "            position_indices=[3, 4, 5]\n",
    "        )\n",
    "    },\n",
    ")"
   ]
  },
  {
   "cell_type": "markdown",
   "metadata": {},
   "source": [
    "## Convert and save as .simularium file"
   ]
  },
  {
   "cell_type": "markdown",
   "metadata": {},
   "source": [
    "Once your data is shaped like in the `example_data` object, you can use the converter to generate the file at the given path:"
   ]
  },
  {
   "cell_type": "code",
   "execution_count": 3,
   "metadata": {},
   "outputs": [
    {
     "name": "stdout",
     "output_type": "stream",
     "text": [
      "Reading Cytosim Data -------------\n",
      "Converting Trajectory Data to Binary -------------\n",
      "Writing Binary -------------\n",
      "saved to example_cytosim.simularium\n"
     ]
    }
   ],
   "source": [
    "CytosimConverter(example_data).save(\"example_cytosim\")"
   ]
  },
  {
   "cell_type": "markdown",
   "metadata": {},
   "source": [
    "## Visualize in the Simularium viewer"
   ]
  },
  {
   "cell_type": "markdown",
   "metadata": {},
   "source": [
    "In a supported web-browser (Firefox or Chrome), navigate to https://simularium.allencell.org/ and import your file into the view."
   ]
  },
  {
   "cell_type": "code",
   "execution_count": null,
   "metadata": {},
   "outputs": [],
   "source": []
  }
 ],
 "metadata": {
  "kernelspec": {
   "display_name": "Python 3 (ipykernel)",
   "language": "python",
   "name": "python3"
  },
  "language_info": {
   "codemirror_mode": {
    "name": "ipython",
    "version": 3
   },
   "file_extension": ".py",
   "mimetype": "text/x-python",
   "name": "python",
   "nbconvert_exporter": "python",
   "pygments_lexer": "ipython3",
   "version": "3.8.13"
  }
 },
 "nbformat": 4,
 "nbformat_minor": 4
}
