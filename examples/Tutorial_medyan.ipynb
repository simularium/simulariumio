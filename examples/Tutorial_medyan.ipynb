{
 "cells": [
  {
   "cell_type": "markdown",
   "metadata": {},
   "source": [
    "# Simularium Conversion Tutorial : MEDYAN Data"
   ]
  },
  {
   "cell_type": "code",
   "execution_count": 1,
   "metadata": {},
   "outputs": [],
   "source": [
    "from IPython.display import Image\n",
    "import numpy as np\n",
    "from simulariumio.medyan import MedyanConverter, MedyanData, MedyanAgentInfo\n",
    "from simulariumio import MetaData, BinaryWriter\n",
    "from simulariumio.filters import TranslateFilter"
   ]
  },
  {
   "cell_type": "markdown",
   "metadata": {},
   "source": [
    "This notebook provides example python code for converting your own simulation trajectories into the format consumed by the Simularium Viewer. It creates a .simularium JSON file which you can drag and drop onto the viewer like this:"
   ]
  },
  {
   "cell_type": "markdown",
   "metadata": {},
   "source": [
    "![title](img/drag_drop.gif)"
   ]
  },
  {
   "cell_type": "markdown",
   "metadata": {},
   "source": [
    "***\n",
    "## Prepare your spatial data"
   ]
  },
  {
   "cell_type": "markdown",
   "metadata": {},
   "source": [
    "The Simularium `MedyanConverter` consumes discrete cell data from MEDYAN. \n",
    "\n",
    "The converter requires a `MedyanData` object as a parameter ([see documentation](https://allen-cell-animated.github.io/simulariumio/simulariumio.medyan.html#simulariumio.medyan.medyan_data.MedyanData)).\n"
   ]
  },
  {
   "cell_type": "code",
   "execution_count": 2,
   "metadata": {},
   "outputs": [],
   "source": [
    "box_size = 1000.0\n",
    "scale = 0.1\n",
    "\n",
    "example_data = MedyanData(\n",
    "    meta_data=MetaData(\n",
    "        box_size=np.array([box_size, box_size, box_size]),\n",
    "        scale_factor=scale,\n",
    "    ),\n",
    "    path_to_snapshot=\"../simulariumio/tests/data/medyan/snapshot.traj\",\n",
    "    filament_agent_info={\n",
    "        0: MedyanAgentInfo(\n",
    "            name=\"Filament\",\n",
    "            radius=5.0,\n",
    "        ),\n",
    "    },\n",
    "    linker_agent_info={\n",
    "        0: MedyanAgentInfo(\n",
    "            name=\"LinkerA\",\n",
    "            radius=8.0,\n",
    "        ),\n",
    "        1: MedyanAgentInfo(\n",
    "            name=\"LinkerB\",\n",
    "            radius=8.0,\n",
    "        ),\n",
    "        2: MedyanAgentInfo(\n",
    "            name=\"LinkerC\",\n",
    "            radius=8.0,\n",
    "        ),\n",
    "    },\n",
    "    motor_agent_info={\n",
    "        1: MedyanAgentInfo(\n",
    "            name=\"Motor\",\n",
    "            radius=2.0,\n",
    "            draw_endpoints=True,\n",
    "            endpoint_radius=10.0,\n",
    "        ),\n",
    "    },\n",
    ")"
   ]
  },
  {
   "cell_type": "markdown",
   "metadata": {},
   "source": [
    "## Convert and save as .simularium JSON file"
   ]
  },
  {
   "cell_type": "markdown",
   "metadata": {},
   "source": [
    "Once your data is shaped like in the `example_data` object, you can use the converter to generate the file at the given path:\n",
    "\n",
    "(since MEDYAN coordinates are all positive, use a `TranslateFilter` to center the data in the viewer.)"
   ]
  },
  {
   "cell_type": "code",
   "execution_count": 3,
   "metadata": {},
   "outputs": [
    {
     "name": "stdout",
     "output_type": "stream",
     "text": [
      "Reading MEDYAN Data -------------\n",
      "Filtering: translation -------------\n",
      "Converting Trajectory Data to Binary -------------\n",
      "Writing Binary -------------\n",
      "saved to example_medyan.simularium\n"
     ]
    }
   ],
   "source": [
    "c = MedyanConverter(example_data)\n",
    "translation_magnitude = -(box_size * scale) / 2\n",
    "filtered_data = c.filter_data([\n",
    "    TranslateFilter(\n",
    "        translation_per_type={},\n",
    "        default_translation=translation_magnitude * np.ones(3)\n",
    "    ),\n",
    "])\n",
    "BinaryWriter.save(filtered_data, \"example_medyan\")"
   ]
  },
  {
   "cell_type": "markdown",
   "metadata": {},
   "source": [
    "## Visualize in the Simularium viewer"
   ]
  },
  {
   "cell_type": "markdown",
   "metadata": {},
   "source": [
    "In a supported web-browser (Firefox or Chrome), navigate to https://simularium.allencell.org/ and import your file into the view."
   ]
  },
  {
   "cell_type": "code",
   "execution_count": null,
   "metadata": {},
   "outputs": [],
   "source": []
  }
 ],
 "metadata": {
  "kernelspec": {
   "display_name": "Python 3",
   "language": "python",
   "name": "python3"
  },
  "language_info": {
   "codemirror_mode": {
    "name": "ipython",
    "version": 3
   },
   "file_extension": ".py",
   "mimetype": "text/x-python",
   "name": "python",
   "nbconvert_exporter": "python",
   "pygments_lexer": "ipython3",
   "version": "3.8.8"
  }
 },
 "nbformat": 4,
 "nbformat_minor": 4
}
