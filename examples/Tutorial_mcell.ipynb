{
 "cells": [
  {
   "cell_type": "markdown",
   "metadata": {},
   "source": [
    "# Simularium Conversion Tutorial : MCell Data"
   ]
  },
  {
   "cell_type": "code",
   "execution_count": 1,
   "metadata": {},
   "outputs": [],
   "source": [
    "from IPython.display import Image\n",
    "from simulariumio.mcell import McellConverter, McellData\n",
    "from simulariumio import DisplayData, DISPLAY_TYPE"
   ]
  },
  {
   "cell_type": "markdown",
   "metadata": {},
   "source": [
    "This notebook provides example python code for converting your own simulation trajectories into the format consumed by the Simularium Viewer. It creates a .simularium JSON file which you can drag and drop onto the viewer like this:"
   ]
  },
  {
   "cell_type": "markdown",
   "metadata": {},
   "source": [
    "![title](img/drag_drop.gif)"
   ]
  },
  {
   "cell_type": "markdown",
   "metadata": {},
   "source": [
    "***\n",
    "## Prepare your spatial data"
   ]
  },
  {
   "cell_type": "markdown",
   "metadata": {},
   "source": [
    "The Simularium `McellConverter` consumes spatiotemporal data from MCell. \n",
    "\n",
    "The converter requires a `McellData` object as a parameter ([see documentation](https://allen-cell-animated.github.io/simulariumio/simulariumio.mcell.html#simulariumio.mcell.mcell_data.McellData)).\n",
    "\n",
    "If you'd like to specify PDB or OBJ files or color for rendering an agent type, add a `DisplayData` object for that agent type, as shown below ([see documentation](https://allen-cell-animated.github.io/simulariumio/simulariumio.data_objects.html#module-simulariumio.data_objects.display_data)).\n"
   ]
  },
  {
   "cell_type": "code",
   "execution_count": 2,
   "metadata": {},
   "outputs": [],
   "source": [
    "example_data = McellData(\n",
    "    path_to_data_model_json=\"../simulariumio/tests/data/mcell/organelle_model_viz_output/Scene.data_model.00.json\",\n",
    "    path_to_binary_files=\"../simulariumio/tests/data/mcell/organelle_model_viz_output\",\n",
    "    display_data={\n",
    "        \"a\" : DisplayData(\n",
    "            name=\"Molecule A\",\n",
    "            radius=0.03,\n",
    "            display_type=DISPLAY_TYPE.PDB,\n",
    "            url=\"https://files.rcsb.org/download/3KIN.pdb\",\n",
    "            color=\"#0080ff\",\n",
    "        ),\n",
    "        \"b\" : DisplayData(\n",
    "            name=\"Molecule B\",\n",
    "        ),\n",
    "        \"t2\" : DisplayData(\n",
    "            name=\"Receptor T2\",\n",
    "            color=\"#ff1493\",\n",
    "        ),\n",
    "    },\n",
    "    scale_factor=100,\n",
    ")"
   ]
  },
  {
   "cell_type": "markdown",
   "metadata": {},
   "source": [
    "## Convert and save as .simularium JSON file"
   ]
  },
  {
   "cell_type": "markdown",
   "metadata": {},
   "source": [
    "Once your data is shaped like in the `example_data` object, you can use the converter to generate the file at the given path:"
   ]
  },
  {
   "cell_type": "code",
   "execution_count": 3,
   "metadata": {},
   "outputs": [
    {
     "name": "stdout",
     "output_type": "stream",
     "text": [
      "Reading MCell Data -------------\n",
      "Writing JSON -------------\n",
      "Converting Trajectory Data -------------\n",
      "saved to example_mcell.simularium\n"
     ]
    }
   ],
   "source": [
    "McellConverter(example_data).write_JSON(\"example_mcell\")"
   ]
  },
  {
   "cell_type": "markdown",
   "metadata": {},
   "source": [
    "## Visualize in the Simularium viewer"
   ]
  },
  {
   "cell_type": "markdown",
   "metadata": {},
   "source": [
    "In a supported web-browser (Firefox or Chrome), navigate to https://simularium.allencell.org/ and import your file into the view."
   ]
  },
  {
   "cell_type": "code",
   "execution_count": null,
   "metadata": {},
   "outputs": [],
   "source": []
  }
 ],
 "metadata": {
  "kernelspec": {
   "display_name": "Python 3",
   "language": "python",
   "name": "python3"
  },
  "language_info": {
   "codemirror_mode": {
    "name": "ipython",
    "version": 3
   },
   "file_extension": ".py",
   "mimetype": "text/x-python",
   "name": "python",
   "nbconvert_exporter": "python",
   "pygments_lexer": "ipython3",
   "version": "3.8.8"
  }
 },
 "nbformat": 4,
 "nbformat_minor": 4
}
