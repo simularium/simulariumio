{
 "cells": [
  {
   "cell_type": "markdown",
   "metadata": {},
   "source": [
    "# Simularium Conversion Tutorial : Cellpack Data"
   ]
  },
  {
   "cell_type": "code",
   "execution_count": 1,
   "metadata": {},
   "outputs": [],
   "source": [
    "from IPython.display import Image\n",
    "from simulariumio.cellpack import CellpackConverter, CellpackData\n",
    "from simulariumio import UnitData, MetaData, DisplayData, DISPLAY_TYPE, ModelMetaData, InputFileData\n",
    "from simulariumio.filters import TranslateFilter"
   ]
  },
  {
   "cell_type": "markdown",
   "metadata": {},
   "source": [
    "This notebook provides example python code for converting your own simulation trajectories into the format consumed by the Simularium Viewer. It creates a .simularium JSON file which you can drag and drop onto the viewer like this:"
   ]
  },
  {
   "cell_type": "markdown",
   "metadata": {},
   "source": [
    "![title](img/drag_drop.gif)"
   ]
  },
  {
   "cell_type": "markdown",
   "metadata": {},
   "source": [
    "***\n",
    "## Prepare your spatial data"
   ]
  },
  {
   "cell_type": "markdown",
   "metadata": {},
   "source": [
    "The Simularium `CellpackConverter` consumes spatiotemporal data from Cellpack. \n",
    "\n",
    "The converter requires a `CellpackData` object as a parameter ([see documentation](https://allen-cell-animated.github.io/simulariumio/simulariumio.cellpack.html#simulariumio.cellpack.cellpack_data.CellpackData)).\n",
    "\n",
    "If you'd like to specify PDB or OBJ files or color for rendering an agent type, add a `DisplayData` object for that agent type, as shown below ([see documentation](https://allen-cell-animated.github.io/simulariumio/simulariumio.data_objects.html#module-simulariumio.data_objects.display_data)).\n"
   ]
  },
  {
   "cell_type": "code",
   "execution_count": 2,
   "metadata": {},
   "outputs": [
    {
     "name": "stdout",
     "output_type": "stream",
     "text": [
      "../simulariumio/tests/data/cellpack/example_2D_recipe.json\n"
     ]
    }
   ],
   "source": [
    "example_data = CellpackData(\n",
    "    results_file=InputFileData(\n",
    "    file_path=\"../simulariumio/tests/data/cellpack/example_2D_results.json\",\n",
    "    ),\n",
    "    recipe_file_path=\"../simulariumio/tests/data/cellpack/example_2D_recipe.json\",\n",
    "    meta_data=MetaData(\n",
    "        trajectory_title=\"Some parameter set\",\n",
    "        model_meta_data=ModelMetaData(\n",
    "            title=\"Some agent-based model\",\n",
    "            version=\"8.1\",\n",
    "            authors=\"A Modeler\",\n",
    "            description=(\n",
    "                \"An agent-based model run with some parameter set\"\n",
    "            ),\n",
    "            doi=\"10.1016/j.bpj.2016.02.002\",\n",
    "            source_code_url=\"https://github.com/allen-cell-animated/simulariumio\",\n",
    "            source_code_license_url=\"https://github.com/allen-cell-animated/simulariumio/blob/main/LICENSE\",\n",
    "            input_data_url=\"https://allencell.org/path/to/native/engine/input/files\",\n",
    "            raw_output_data_url=\"https://allencell.org/path/to/native/engine/output/files\",\n",
    "        ),\n",
    "    ),\n",
    "    time_units=UnitData(\"ns\"),  # nanoseconds\n",
    "    spatial_units=UnitData(\"nm\"),  # nanometers\n",
    ")\n",
    "print(example_data.recipe_file_path)"
   ]
  },
  {
   "cell_type": "markdown",
   "metadata": {},
   "source": [
    "## Convert and save as .simularium JSON file"
   ]
  },
  {
   "cell_type": "markdown",
   "metadata": {},
   "source": [
    "Once your data is shaped like in the `example_data` object, you can use the converter to generate the file at the given path:"
   ]
  },
  {
   "cell_type": "code",
   "execution_count": 3,
   "metadata": {},
   "outputs": [
    {
     "name": "stdout",
     "output_type": "stream",
     "text": [
      "Reading Cellpack Data -------------\n",
      "39\n",
      "[[]] 0\n",
      "[['IngredientC_1_1']] 1\n",
      "[['IngredientC_1_1', 'IngredientC_1_1']] 2\n",
      "3\n",
      "4\n",
      "[['IngredientC_1_1', 'IngredientC_1_1', 'IngredientC_1_1', 'snake', 'snake']] 5\n",
      "[['IngredientC_1_1', 'IngredientC_1_1', 'IngredientC_1_1', 'snake', 'snake', 'Bacteria_Rad25_1_3']] 6\n",
      "[['IngredientC_1_1', 'IngredientC_1_1', 'IngredientC_1_1', 'snake', 'snake', 'Bacteria_Rad25_1_3', 'Bacteria_Rad25_1_3']] 7\n",
      "[['IngredientC_1_1', 'IngredientC_1_1', 'IngredientC_1_1', 'snake', 'snake', 'Bacteria_Rad25_1_3', 'Bacteria_Rad25_1_3', 'Bacteria_Rad25_1_3']] 8\n",
      "[['IngredientC_1_1', 'IngredientC_1_1', 'IngredientC_1_1', 'snake', 'snake', 'Bacteria_Rad25_1_3', 'Bacteria_Rad25_1_3', 'Bacteria_Rad25_1_3', 'Bacteria_Rad25_1_3']] 9\n",
      "[['IngredientC_1_1', 'IngredientC_1_1', 'IngredientC_1_1', 'snake', 'snake', 'Bacteria_Rad25_1_3', 'Bacteria_Rad25_1_3', 'Bacteria_Rad25_1_3', 'Bacteria_Rad25_1_3', 'Bacteria_Rad25_1_3']] 10\n",
      "[['IngredientC_1_1', 'IngredientC_1_1', 'IngredientC_1_1', 'snake', 'snake', 'Bacteria_Rad25_1_3', 'Bacteria_Rad25_1_3', 'Bacteria_Rad25_1_3', 'Bacteria_Rad25_1_3', 'Bacteria_Rad25_1_3', 'Bacteria_Rad25_1_3']] 11\n",
      "[['IngredientC_1_1', 'IngredientC_1_1', 'IngredientC_1_1', 'snake', 'snake', 'Bacteria_Rad25_1_3', 'Bacteria_Rad25_1_3', 'Bacteria_Rad25_1_3', 'Bacteria_Rad25_1_3', 'Bacteria_Rad25_1_3', 'Bacteria_Rad25_1_3', 'Bacteria_Rad25_1_3']] 12\n",
      "[['IngredientC_1_1', 'IngredientC_1_1', 'IngredientC_1_1', 'snake', 'snake', 'Bacteria_Rad25_1_3', 'Bacteria_Rad25_1_3', 'Bacteria_Rad25_1_3', 'Bacteria_Rad25_1_3', 'Bacteria_Rad25_1_3', 'Bacteria_Rad25_1_3', 'Bacteria_Rad25_1_3', 'Bacteria_Rad25_1_3']] 13\n",
      "[['IngredientC_1_1', 'IngredientC_1_1', 'IngredientC_1_1', 'snake', 'snake', 'Bacteria_Rad25_1_3', 'Bacteria_Rad25_1_3', 'Bacteria_Rad25_1_3', 'Bacteria_Rad25_1_3', 'Bacteria_Rad25_1_3', 'Bacteria_Rad25_1_3', 'Bacteria_Rad25_1_3', 'Bacteria_Rad25_1_3', 'Bacteria_Rad25_1_3']] 14\n",
      "[['IngredientC_1_1', 'IngredientC_1_1', 'IngredientC_1_1', 'snake', 'snake', 'Bacteria_Rad25_1_3', 'Bacteria_Rad25_1_3', 'Bacteria_Rad25_1_3', 'Bacteria_Rad25_1_3', 'Bacteria_Rad25_1_3', 'Bacteria_Rad25_1_3', 'Bacteria_Rad25_1_3', 'Bacteria_Rad25_1_3', 'Bacteria_Rad25_1_3', 'Bacteria_Rad25_1_3']] 15\n",
      "[['IngredientC_1_1', 'IngredientC_1_1', 'IngredientC_1_1', 'snake', 'snake', 'Bacteria_Rad25_1_3', 'Bacteria_Rad25_1_3', 'Bacteria_Rad25_1_3', 'Bacteria_Rad25_1_3', 'Bacteria_Rad25_1_3', 'Bacteria_Rad25_1_3', 'Bacteria_Rad25_1_3', 'Bacteria_Rad25_1_3', 'Bacteria_Rad25_1_3', 'Bacteria_Rad25_1_3', 'Bacteria_Rad25_1_3']] 16\n",
      "[['IngredientC_1_1', 'IngredientC_1_1', 'IngredientC_1_1', 'snake', 'snake', 'Bacteria_Rad25_1_3', 'Bacteria_Rad25_1_3', 'Bacteria_Rad25_1_3', 'Bacteria_Rad25_1_3', 'Bacteria_Rad25_1_3', 'Bacteria_Rad25_1_3', 'Bacteria_Rad25_1_3', 'Bacteria_Rad25_1_3', 'Bacteria_Rad25_1_3', 'Bacteria_Rad25_1_3', 'Bacteria_Rad25_1_3', 'Bacteria_Rad25_1_3']] 17\n",
      "[['IngredientC_1_1', 'IngredientC_1_1', 'IngredientC_1_1', 'snake', 'snake', 'Bacteria_Rad25_1_3', 'Bacteria_Rad25_1_3', 'Bacteria_Rad25_1_3', 'Bacteria_Rad25_1_3', 'Bacteria_Rad25_1_3', 'Bacteria_Rad25_1_3', 'Bacteria_Rad25_1_3', 'Bacteria_Rad25_1_3', 'Bacteria_Rad25_1_3', 'Bacteria_Rad25_1_3', 'Bacteria_Rad25_1_3', 'Bacteria_Rad25_1_3', 'Bacteria_Rad25_1_3']] 18\n",
      "[['IngredientC_1_1', 'IngredientC_1_1', 'IngredientC_1_1', 'snake', 'snake', 'Bacteria_Rad25_1_3', 'Bacteria_Rad25_1_3', 'Bacteria_Rad25_1_3', 'Bacteria_Rad25_1_3', 'Bacteria_Rad25_1_3', 'Bacteria_Rad25_1_3', 'Bacteria_Rad25_1_3', 'Bacteria_Rad25_1_3', 'Bacteria_Rad25_1_3', 'Bacteria_Rad25_1_3', 'Bacteria_Rad25_1_3', 'Bacteria_Rad25_1_3', 'Bacteria_Rad25_1_3', 'Bacteria_Rad25_1_3']] 19\n",
      "[['IngredientC_1_1', 'IngredientC_1_1', 'IngredientC_1_1', 'snake', 'snake', 'Bacteria_Rad25_1_3', 'Bacteria_Rad25_1_3', 'Bacteria_Rad25_1_3', 'Bacteria_Rad25_1_3', 'Bacteria_Rad25_1_3', 'Bacteria_Rad25_1_3', 'Bacteria_Rad25_1_3', 'Bacteria_Rad25_1_3', 'Bacteria_Rad25_1_3', 'Bacteria_Rad25_1_3', 'Bacteria_Rad25_1_3', 'Bacteria_Rad25_1_3', 'Bacteria_Rad25_1_3', 'Bacteria_Rad25_1_3', 'Bacteria_Rad25_1_3']] 20\n",
      "[['IngredientC_1_1', 'IngredientC_1_1', 'IngredientC_1_1', 'snake', 'snake', 'Bacteria_Rad25_1_3', 'Bacteria_Rad25_1_3', 'Bacteria_Rad25_1_3', 'Bacteria_Rad25_1_3', 'Bacteria_Rad25_1_3', 'Bacteria_Rad25_1_3', 'Bacteria_Rad25_1_3', 'Bacteria_Rad25_1_3', 'Bacteria_Rad25_1_3', 'Bacteria_Rad25_1_3', 'Bacteria_Rad25_1_3', 'Bacteria_Rad25_1_3', 'Bacteria_Rad25_1_3', 'Bacteria_Rad25_1_3', 'Bacteria_Rad25_1_3', 'Bacteria_Rad25_1_3']] 21\n",
      "[['IngredientC_1_1', 'IngredientC_1_1', 'IngredientC_1_1', 'snake', 'snake', 'Bacteria_Rad25_1_3', 'Bacteria_Rad25_1_3', 'Bacteria_Rad25_1_3', 'Bacteria_Rad25_1_3', 'Bacteria_Rad25_1_3', 'Bacteria_Rad25_1_3', 'Bacteria_Rad25_1_3', 'Bacteria_Rad25_1_3', 'Bacteria_Rad25_1_3', 'Bacteria_Rad25_1_3', 'Bacteria_Rad25_1_3', 'Bacteria_Rad25_1_3', 'Bacteria_Rad25_1_3', 'Bacteria_Rad25_1_3', 'Bacteria_Rad25_1_3', 'Bacteria_Rad25_1_3', 'Bacteria_Rad25_1_3']] 22\n",
      "[['IngredientC_1_1', 'IngredientC_1_1', 'IngredientC_1_1', 'snake', 'snake', 'Bacteria_Rad25_1_3', 'Bacteria_Rad25_1_3', 'Bacteria_Rad25_1_3', 'Bacteria_Rad25_1_3', 'Bacteria_Rad25_1_3', 'Bacteria_Rad25_1_3', 'Bacteria_Rad25_1_3', 'Bacteria_Rad25_1_3', 'Bacteria_Rad25_1_3', 'Bacteria_Rad25_1_3', 'Bacteria_Rad25_1_3', 'Bacteria_Rad25_1_3', 'Bacteria_Rad25_1_3', 'Bacteria_Rad25_1_3', 'Bacteria_Rad25_1_3', 'Bacteria_Rad25_1_3', 'Bacteria_Rad25_1_3', 'Bacteria_Rad25_1_3']] 23\n",
      "[['IngredientC_1_1', 'IngredientC_1_1', 'IngredientC_1_1', 'snake', 'snake', 'Bacteria_Rad25_1_3', 'Bacteria_Rad25_1_3', 'Bacteria_Rad25_1_3', 'Bacteria_Rad25_1_3', 'Bacteria_Rad25_1_3', 'Bacteria_Rad25_1_3', 'Bacteria_Rad25_1_3', 'Bacteria_Rad25_1_3', 'Bacteria_Rad25_1_3', 'Bacteria_Rad25_1_3', 'Bacteria_Rad25_1_3', 'Bacteria_Rad25_1_3', 'Bacteria_Rad25_1_3', 'Bacteria_Rad25_1_3', 'Bacteria_Rad25_1_3', 'Bacteria_Rad25_1_3', 'Bacteria_Rad25_1_3', 'Bacteria_Rad25_1_3', 'Bacteria_Rad25_1_3']] 24\n",
      "[['IngredientC_1_1', 'IngredientC_1_1', 'IngredientC_1_1', 'snake', 'snake', 'Bacteria_Rad25_1_3', 'Bacteria_Rad25_1_3', 'Bacteria_Rad25_1_3', 'Bacteria_Rad25_1_3', 'Bacteria_Rad25_1_3', 'Bacteria_Rad25_1_3', 'Bacteria_Rad25_1_3', 'Bacteria_Rad25_1_3', 'Bacteria_Rad25_1_3', 'Bacteria_Rad25_1_3', 'Bacteria_Rad25_1_3', 'Bacteria_Rad25_1_3', 'Bacteria_Rad25_1_3', 'Bacteria_Rad25_1_3', 'Bacteria_Rad25_1_3', 'Bacteria_Rad25_1_3', 'Bacteria_Rad25_1_3', 'Bacteria_Rad25_1_3', 'Bacteria_Rad25_1_3', 'Bacteria_Rad25_1_3']] 25\n",
      "[['IngredientC_1_1', 'IngredientC_1_1', 'IngredientC_1_1', 'snake', 'snake', 'Bacteria_Rad25_1_3', 'Bacteria_Rad25_1_3', 'Bacteria_Rad25_1_3', 'Bacteria_Rad25_1_3', 'Bacteria_Rad25_1_3', 'Bacteria_Rad25_1_3', 'Bacteria_Rad25_1_3', 'Bacteria_Rad25_1_3', 'Bacteria_Rad25_1_3', 'Bacteria_Rad25_1_3', 'Bacteria_Rad25_1_3', 'Bacteria_Rad25_1_3', 'Bacteria_Rad25_1_3', 'Bacteria_Rad25_1_3', 'Bacteria_Rad25_1_3', 'Bacteria_Rad25_1_3', 'Bacteria_Rad25_1_3', 'Bacteria_Rad25_1_3', 'Bacteria_Rad25_1_3', 'Bacteria_Rad25_1_3', 'Bacteria_Rad25_1_3']] 26\n",
      "[['IngredientC_1_1', 'IngredientC_1_1', 'IngredientC_1_1', 'snake', 'snake', 'Bacteria_Rad25_1_3', 'Bacteria_Rad25_1_3', 'Bacteria_Rad25_1_3', 'Bacteria_Rad25_1_3', 'Bacteria_Rad25_1_3', 'Bacteria_Rad25_1_3', 'Bacteria_Rad25_1_3', 'Bacteria_Rad25_1_3', 'Bacteria_Rad25_1_3', 'Bacteria_Rad25_1_3', 'Bacteria_Rad25_1_3', 'Bacteria_Rad25_1_3', 'Bacteria_Rad25_1_3', 'Bacteria_Rad25_1_3', 'Bacteria_Rad25_1_3', 'Bacteria_Rad25_1_3', 'Bacteria_Rad25_1_3', 'Bacteria_Rad25_1_3', 'Bacteria_Rad25_1_3', 'Bacteria_Rad25_1_3', 'Bacteria_Rad25_1_3', 'Bacteria_Rad25_1_3']] 27\n",
      "[['IngredientC_1_1', 'IngredientC_1_1', 'IngredientC_1_1', 'snake', 'snake', 'Bacteria_Rad25_1_3', 'Bacteria_Rad25_1_3', 'Bacteria_Rad25_1_3', 'Bacteria_Rad25_1_3', 'Bacteria_Rad25_1_3', 'Bacteria_Rad25_1_3', 'Bacteria_Rad25_1_3', 'Bacteria_Rad25_1_3', 'Bacteria_Rad25_1_3', 'Bacteria_Rad25_1_3', 'Bacteria_Rad25_1_3', 'Bacteria_Rad25_1_3', 'Bacteria_Rad25_1_3', 'Bacteria_Rad25_1_3', 'Bacteria_Rad25_1_3', 'Bacteria_Rad25_1_3', 'Bacteria_Rad25_1_3', 'Bacteria_Rad25_1_3', 'Bacteria_Rad25_1_3', 'Bacteria_Rad25_1_3', 'Bacteria_Rad25_1_3', 'Bacteria_Rad25_1_3', 'Bacteria_Rad25_1_3']] 28\n",
      "[['IngredientC_1_1', 'IngredientC_1_1', 'IngredientC_1_1', 'snake', 'snake', 'Bacteria_Rad25_1_3', 'Bacteria_Rad25_1_3', 'Bacteria_Rad25_1_3', 'Bacteria_Rad25_1_3', 'Bacteria_Rad25_1_3', 'Bacteria_Rad25_1_3', 'Bacteria_Rad25_1_3', 'Bacteria_Rad25_1_3', 'Bacteria_Rad25_1_3', 'Bacteria_Rad25_1_3', 'Bacteria_Rad25_1_3', 'Bacteria_Rad25_1_3', 'Bacteria_Rad25_1_3', 'Bacteria_Rad25_1_3', 'Bacteria_Rad25_1_3', 'Bacteria_Rad25_1_3', 'Bacteria_Rad25_1_3', 'Bacteria_Rad25_1_3', 'Bacteria_Rad25_1_3', 'Bacteria_Rad25_1_3', 'Bacteria_Rad25_1_3', 'Bacteria_Rad25_1_3', 'Bacteria_Rad25_1_3', 'Bacteria_Rad25_1_3']] 29\n",
      "[['IngredientC_1_1', 'IngredientC_1_1', 'IngredientC_1_1', 'snake', 'snake', 'Bacteria_Rad25_1_3', 'Bacteria_Rad25_1_3', 'Bacteria_Rad25_1_3', 'Bacteria_Rad25_1_3', 'Bacteria_Rad25_1_3', 'Bacteria_Rad25_1_3', 'Bacteria_Rad25_1_3', 'Bacteria_Rad25_1_3', 'Bacteria_Rad25_1_3', 'Bacteria_Rad25_1_3', 'Bacteria_Rad25_1_3', 'Bacteria_Rad25_1_3', 'Bacteria_Rad25_1_3', 'Bacteria_Rad25_1_3', 'Bacteria_Rad25_1_3', 'Bacteria_Rad25_1_3', 'Bacteria_Rad25_1_3', 'Bacteria_Rad25_1_3', 'Bacteria_Rad25_1_3', 'Bacteria_Rad25_1_3', 'Bacteria_Rad25_1_3', 'Bacteria_Rad25_1_3', 'Bacteria_Rad25_1_3', 'Bacteria_Rad25_1_3', 'Bacteria_Rad25_1_3']] 30\n",
      "[['IngredientC_1_1', 'IngredientC_1_1', 'IngredientC_1_1', 'snake', 'snake', 'Bacteria_Rad25_1_3', 'Bacteria_Rad25_1_3', 'Bacteria_Rad25_1_3', 'Bacteria_Rad25_1_3', 'Bacteria_Rad25_1_3', 'Bacteria_Rad25_1_3', 'Bacteria_Rad25_1_3', 'Bacteria_Rad25_1_3', 'Bacteria_Rad25_1_3', 'Bacteria_Rad25_1_3', 'Bacteria_Rad25_1_3', 'Bacteria_Rad25_1_3', 'Bacteria_Rad25_1_3', 'Bacteria_Rad25_1_3', 'Bacteria_Rad25_1_3', 'Bacteria_Rad25_1_3', 'Bacteria_Rad25_1_3', 'Bacteria_Rad25_1_3', 'Bacteria_Rad25_1_3', 'Bacteria_Rad25_1_3', 'Bacteria_Rad25_1_3', 'Bacteria_Rad25_1_3', 'Bacteria_Rad25_1_3', 'Bacteria_Rad25_1_3', 'Bacteria_Rad25_1_3', 'Bacteria_Rad25_1_3']] 31\n",
      "[['IngredientC_1_1', 'IngredientC_1_1', 'IngredientC_1_1', 'snake', 'snake', 'Bacteria_Rad25_1_3', 'Bacteria_Rad25_1_3', 'Bacteria_Rad25_1_3', 'Bacteria_Rad25_1_3', 'Bacteria_Rad25_1_3', 'Bacteria_Rad25_1_3', 'Bacteria_Rad25_1_3', 'Bacteria_Rad25_1_3', 'Bacteria_Rad25_1_3', 'Bacteria_Rad25_1_3', 'Bacteria_Rad25_1_3', 'Bacteria_Rad25_1_3', 'Bacteria_Rad25_1_3', 'Bacteria_Rad25_1_3', 'Bacteria_Rad25_1_3', 'Bacteria_Rad25_1_3', 'Bacteria_Rad25_1_3', 'Bacteria_Rad25_1_3', 'Bacteria_Rad25_1_3', 'Bacteria_Rad25_1_3', 'Bacteria_Rad25_1_3', 'Bacteria_Rad25_1_3', 'Bacteria_Rad25_1_3', 'Bacteria_Rad25_1_3', 'Bacteria_Rad25_1_3', 'Bacteria_Rad25_1_3', 'Bacteria_Rad25_1_3']] 32\n",
      "[['IngredientC_1_1', 'IngredientC_1_1', 'IngredientC_1_1', 'snake', 'snake', 'Bacteria_Rad25_1_3', 'Bacteria_Rad25_1_3', 'Bacteria_Rad25_1_3', 'Bacteria_Rad25_1_3', 'Bacteria_Rad25_1_3', 'Bacteria_Rad25_1_3', 'Bacteria_Rad25_1_3', 'Bacteria_Rad25_1_3', 'Bacteria_Rad25_1_3', 'Bacteria_Rad25_1_3', 'Bacteria_Rad25_1_3', 'Bacteria_Rad25_1_3', 'Bacteria_Rad25_1_3', 'Bacteria_Rad25_1_3', 'Bacteria_Rad25_1_3', 'Bacteria_Rad25_1_3', 'Bacteria_Rad25_1_3', 'Bacteria_Rad25_1_3', 'Bacteria_Rad25_1_3', 'Bacteria_Rad25_1_3', 'Bacteria_Rad25_1_3', 'Bacteria_Rad25_1_3', 'Bacteria_Rad25_1_3', 'Bacteria_Rad25_1_3', 'Bacteria_Rad25_1_3', 'Bacteria_Rad25_1_3', 'Bacteria_Rad25_1_3', 'Bacteria_Rad25_1_3']] 33\n",
      "[['IngredientC_1_1', 'IngredientC_1_1', 'IngredientC_1_1', 'snake', 'snake', 'Bacteria_Rad25_1_3', 'Bacteria_Rad25_1_3', 'Bacteria_Rad25_1_3', 'Bacteria_Rad25_1_3', 'Bacteria_Rad25_1_3', 'Bacteria_Rad25_1_3', 'Bacteria_Rad25_1_3', 'Bacteria_Rad25_1_3', 'Bacteria_Rad25_1_3', 'Bacteria_Rad25_1_3', 'Bacteria_Rad25_1_3', 'Bacteria_Rad25_1_3', 'Bacteria_Rad25_1_3', 'Bacteria_Rad25_1_3', 'Bacteria_Rad25_1_3', 'Bacteria_Rad25_1_3', 'Bacteria_Rad25_1_3', 'Bacteria_Rad25_1_3', 'Bacteria_Rad25_1_3', 'Bacteria_Rad25_1_3', 'Bacteria_Rad25_1_3', 'Bacteria_Rad25_1_3', 'Bacteria_Rad25_1_3', 'Bacteria_Rad25_1_3', 'Bacteria_Rad25_1_3', 'Bacteria_Rad25_1_3', 'Bacteria_Rad25_1_3', 'Bacteria_Rad25_1_3', 'Bacteria_Rad25_1_3']] 34\n",
      "[['IngredientC_1_1', 'IngredientC_1_1', 'IngredientC_1_1', 'snake', 'snake', 'Bacteria_Rad25_1_3', 'Bacteria_Rad25_1_3', 'Bacteria_Rad25_1_3', 'Bacteria_Rad25_1_3', 'Bacteria_Rad25_1_3', 'Bacteria_Rad25_1_3', 'Bacteria_Rad25_1_3', 'Bacteria_Rad25_1_3', 'Bacteria_Rad25_1_3', 'Bacteria_Rad25_1_3', 'Bacteria_Rad25_1_3', 'Bacteria_Rad25_1_3', 'Bacteria_Rad25_1_3', 'Bacteria_Rad25_1_3', 'Bacteria_Rad25_1_3', 'Bacteria_Rad25_1_3', 'Bacteria_Rad25_1_3', 'Bacteria_Rad25_1_3', 'Bacteria_Rad25_1_3', 'Bacteria_Rad25_1_3', 'Bacteria_Rad25_1_3', 'Bacteria_Rad25_1_3', 'Bacteria_Rad25_1_3', 'Bacteria_Rad25_1_3', 'Bacteria_Rad25_1_3', 'Bacteria_Rad25_1_3', 'Bacteria_Rad25_1_3', 'Bacteria_Rad25_1_3', 'Bacteria_Rad25_1_3', 'Bacteria_Rad25_1_3']] 35\n",
      "[['IngredientC_1_1', 'IngredientC_1_1', 'IngredientC_1_1', 'snake', 'snake', 'Bacteria_Rad25_1_3', 'Bacteria_Rad25_1_3', 'Bacteria_Rad25_1_3', 'Bacteria_Rad25_1_3', 'Bacteria_Rad25_1_3', 'Bacteria_Rad25_1_3', 'Bacteria_Rad25_1_3', 'Bacteria_Rad25_1_3', 'Bacteria_Rad25_1_3', 'Bacteria_Rad25_1_3', 'Bacteria_Rad25_1_3', 'Bacteria_Rad25_1_3', 'Bacteria_Rad25_1_3', 'Bacteria_Rad25_1_3', 'Bacteria_Rad25_1_3', 'Bacteria_Rad25_1_3', 'Bacteria_Rad25_1_3', 'Bacteria_Rad25_1_3', 'Bacteria_Rad25_1_3', 'Bacteria_Rad25_1_3', 'Bacteria_Rad25_1_3', 'Bacteria_Rad25_1_3', 'Bacteria_Rad25_1_3', 'Bacteria_Rad25_1_3', 'Bacteria_Rad25_1_3', 'Bacteria_Rad25_1_3', 'Bacteria_Rad25_1_3', 'Bacteria_Rad25_1_3', 'Bacteria_Rad25_1_3', 'Bacteria_Rad25_1_3', 'Bacteria_Rad25_1_3']] 36\n",
      "[['IngredientC_1_1', 'IngredientC_1_1', 'IngredientC_1_1', 'snake', 'snake', 'Bacteria_Rad25_1_3', 'Bacteria_Rad25_1_3', 'Bacteria_Rad25_1_3', 'Bacteria_Rad25_1_3', 'Bacteria_Rad25_1_3', 'Bacteria_Rad25_1_3', 'Bacteria_Rad25_1_3', 'Bacteria_Rad25_1_3', 'Bacteria_Rad25_1_3', 'Bacteria_Rad25_1_3', 'Bacteria_Rad25_1_3', 'Bacteria_Rad25_1_3', 'Bacteria_Rad25_1_3', 'Bacteria_Rad25_1_3', 'Bacteria_Rad25_1_3', 'Bacteria_Rad25_1_3', 'Bacteria_Rad25_1_3', 'Bacteria_Rad25_1_3', 'Bacteria_Rad25_1_3', 'Bacteria_Rad25_1_3', 'Bacteria_Rad25_1_3', 'Bacteria_Rad25_1_3', 'Bacteria_Rad25_1_3', 'Bacteria_Rad25_1_3', 'Bacteria_Rad25_1_3', 'Bacteria_Rad25_1_3', 'Bacteria_Rad25_1_3', 'Bacteria_Rad25_1_3', 'Bacteria_Rad25_1_3', 'Bacteria_Rad25_1_3', 'Bacteria_Rad25_1_3', 'Bacteria_Rad25_1_3']] 37\n",
      "[['IngredientC_1_1', 'IngredientC_1_1', 'IngredientC_1_1', 'snake', 'snake', 'Bacteria_Rad25_1_3', 'Bacteria_Rad25_1_3', 'Bacteria_Rad25_1_3', 'Bacteria_Rad25_1_3', 'Bacteria_Rad25_1_3', 'Bacteria_Rad25_1_3', 'Bacteria_Rad25_1_3', 'Bacteria_Rad25_1_3', 'Bacteria_Rad25_1_3', 'Bacteria_Rad25_1_3', 'Bacteria_Rad25_1_3', 'Bacteria_Rad25_1_3', 'Bacteria_Rad25_1_3', 'Bacteria_Rad25_1_3', 'Bacteria_Rad25_1_3', 'Bacteria_Rad25_1_3', 'Bacteria_Rad25_1_3', 'Bacteria_Rad25_1_3', 'Bacteria_Rad25_1_3', 'Bacteria_Rad25_1_3', 'Bacteria_Rad25_1_3', 'Bacteria_Rad25_1_3', 'Bacteria_Rad25_1_3', 'Bacteria_Rad25_1_3', 'Bacteria_Rad25_1_3', 'Bacteria_Rad25_1_3', 'Bacteria_Rad25_1_3', 'Bacteria_Rad25_1_3', 'Bacteria_Rad25_1_3', 'Bacteria_Rad25_1_3', 'Bacteria_Rad25_1_3', 'Bacteria_Rad25_1_3', 'Bacteria_Rad25_1_3']] 38\n",
      "[100.0, 100.0, 0.1]\n",
      "Writing JSON -------------\n",
      "Converting Trajectory Data -------------\n",
      "saved to example_cellpack.simularium\n"
     ]
    }
   ],
   "source": [
    "CellpackConverter(example_data).write_JSON(\"example_cellpack\")"
   ]
  },
  {
   "cell_type": "markdown",
   "metadata": {},
   "source": [
    "## Visualize in the Simularium viewer"
   ]
  },
  {
   "cell_type": "markdown",
   "metadata": {},
   "source": [
    "In a supported web-browser (Firefox or Chrome), navigate to https://simularium.allencell.org/ and import your file into the view."
   ]
  },
  {
   "cell_type": "code",
   "execution_count": null,
   "metadata": {},
   "outputs": [],
   "source": []
  }
 ],
 "metadata": {
  "interpreter": {
   "hash": "cd0518bd716f98b7e14424e78f6df8770bae05298fd88758d5e0f75a22535aeb"
  },
  "kernelspec": {
   "display_name": "Python 3.8.10 64-bit (conda)",
   "name": "python3"
  },
  "language_info": {
   "codemirror_mode": {
    "name": "ipython",
    "version": 3
   },
   "file_extension": ".py",
   "mimetype": "text/x-python",
   "name": "python",
   "nbconvert_exporter": "python",
   "pygments_lexer": "ipython3",
   "version": "3.8.12"
  }
 },
 "nbformat": 4,
 "nbformat_minor": 4
}
