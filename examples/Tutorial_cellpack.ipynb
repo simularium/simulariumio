{
 "cells": [
  {
   "cell_type": "markdown",
   "metadata": {},
   "source": [
    "# Simularium Conversion Tutorial : Cellpack Data"
   ]
  },
  {
   "cell_type": "code",
   "execution_count": 1,
   "metadata": {},
   "outputs": [],
   "source": [
    "from IPython.display import Image\n",
    "from simulariumio.cellpack import CellpackConverter, CellpackData\n",
    "from simulariumio import UnitData, MetaData, DisplayData, DISPLAY_TYPE, ModelMetaData, InputFileData\n",
    "from simulariumio.filters import TranslateFilter"
   ]
  },
  {
   "cell_type": "markdown",
   "metadata": {},
   "source": [
    "This notebook provides example python code for converting your own simulation trajectories into the format consumed by the Simularium Viewer. It creates a .simularium JSON file which you can drag and drop onto the viewer like this:"
   ]
  },
  {
   "cell_type": "markdown",
   "metadata": {},
   "source": [
    "![title](img/drag_drop.gif)"
   ]
  },
  {
   "cell_type": "markdown",
   "metadata": {},
   "source": [
    "***\n",
    "## Prepare your spatial data"
   ]
  },
  {
   "cell_type": "markdown",
   "metadata": {},
   "source": [
    "The Simularium `CellpackConverter` consumes spatiotemporal data from Cellpack. \n",
    "\n",
    "The converter requires a `CellpackData` object as a parameter ([see documentation](https://allen-cell-animated.github.io/simulariumio/simulariumio.cellpack.html#simulariumio.cellpack.cellpack_data.CellpackData)).\n",
    "\n",
    "If you'd like to specify PDB or OBJ files or color for rendering an agent type, add a `DisplayData` object for that agent type, as shown below ([see documentation](https://allen-cell-animated.github.io/simulariumio/simulariumio.data_objects.html#module-simulariumio.data_objects.display_data)).\n"
   ]
  },
  {
   "cell_type": "code",
   "execution_count": 2,
   "metadata": {},
   "outputs": [
    {
     "name": "stdout",
     "output_type": "stream",
     "text": [
      "../simulariumio/tests/data/cellpack/example_2D_recipe.json\n"
     ]
    }
   ],
   "source": [
    "example_data = CellpackData(\n",
    "    results_file=InputFileData(\n",
    "    file_path=\"../simulariumio/tests/data/cellpack/example_2D_results.json\",\n",
    "    ),\n",
    "    recipe_file_path=\"../simulariumio/tests/data/cellpack/example_2D_recipe.json\",\n",
    "    meta_data=MetaData(\n",
    "        trajectory_title=\"Some parameter set\",\n",
    "        model_meta_data=ModelMetaData(\n",
    "            title=\"Some agent-based model\",\n",
    "            version=\"8.1\",\n",
    "            authors=\"A Modeler\",\n",
    "            description=(\n",
    "                \"An agent-based model run with some parameter set\"\n",
    "            ),\n",
    "            doi=\"10.1016/j.bpj.2016.02.002\",\n",
    "            source_code_url=\"https://github.com/allen-cell-animated/simulariumio\",\n",
    "            source_code_license_url=\"https://github.com/allen-cell-animated/simulariumio/blob/main/LICENSE\",\n",
    "            input_data_url=\"https://allencell.org/path/to/native/engine/input/files\",\n",
    "            raw_output_data_url=\"https://allencell.org/path/to/native/engine/output/files\",\n",
    "        ),\n",
    "    ),\n",
    "    time_units=UnitData(\"ns\"),  # nanoseconds\n",
    "    spatial_units=UnitData(\"nm\"),  # nanometers\n",
    ")\n",
    "print(example_data.recipe_file_path)"
   ]
  },
  {
   "cell_type": "markdown",
   "metadata": {},
   "source": [
    "## Convert and save as .simularium JSON file"
   ]
  },
  {
   "cell_type": "markdown",
   "metadata": {},
   "source": [
    "Once your data is shaped like in the `example_data` object, you can use the converter to generate the file at the given path:"
   ]
  },
  {
   "cell_type": "code",
   "execution_count": 3,
   "metadata": {},
   "outputs": [
    {
     "name": "stdout",
     "output_type": "stream",
     "text": [
      "Reading Cellpack Data -------------\n",
      "SCALE FACTOR 0.1\n",
      "[-20.936301 -34.939883  -0.05    ]\n",
      "[ 22.335352 -24.278128  -0.05    ]\n",
      "[-2.862291 31.867653 -0.05    ]\n",
      "[-27.040083  21.541915  -0.05    ]\n",
      "[-29.574403 -11.557633  -0.05    ]\n",
      "[-42.9782385 -17.88265    -0.05     ]\n",
      "[-47.4737334 -37.622001   -0.05     ]\n",
      "[-4.922696 -8.422915 -0.05    ]\n",
      "[ 3.623713 -1.870971 -0.05    ]\n",
      "[-49.04520262 -48.9605248   -0.05      ]\n",
      "[-9.095863 -1.694198 -0.05    ]\n",
      "[-42.0096419  -4.512842   -0.05     ]\n",
      "[22.654697 30.755598 -0.05    ]\n",
      "[40.891728 14.107086 -0.05    ]\n",
      "[19.353658 -9.736492 -0.05    ]\n",
      "[ 49.490335  -42.8728566  -0.05     ]\n",
      "[-20.644177  -2.254173  -0.05    ]\n",
      "[11.072159  9.899447 -0.05    ]\n",
      "[-47.746743 -24.556     -0.05    ]\n",
      "[-35.798074  39.835899  -0.05    ]\n",
      "[-44.5629831  40.464815   -0.05     ]\n",
      "[13.795317  1.160471 -0.05    ]\n",
      "[-23.373295 -29.236304  -0.05    ]\n",
      "[42.717886 23.910187 -0.05    ]\n",
      "[  5.096841  -48.3715532  -0.05     ]\n",
      "[ 27.343192   -49.66354994  -0.05      ]\n",
      "[-17.441905  -42.1389778  -0.05     ]\n",
      "[23.413997  8.990655 -0.05    ]\n",
      "[-45.6413672  29.798129   -0.05     ]\n",
      "[-32.364773  27.269008  -0.05    ]\n",
      "[ 27.460075 -28.318667  -0.05    ]\n",
      "[-7.365266 25.220971 -0.05    ]\n",
      "[ 3.841197 37.619973 -0.05    ]\n",
      "[32.821482 13.831126 -0.05    ]\n",
      "[34.238149 32.488493 -0.05    ]\n",
      "[ 43.894241 -36.469428  -0.05    ]\n",
      "[-12.23109   -49.6076681  -0.05     ]\n",
      "Writing JSON -------------\n",
      "Converting Trajectory Data -------------\n",
      "saved to example_cellpack.simularium\n"
     ]
    }
   ],
   "source": [
    "CellpackConverter(example_data).write_JSON(\"example_cellpack\")"
   ]
  },
  {
   "cell_type": "markdown",
   "metadata": {},
   "source": [
    "## Visualize in the Simularium viewer"
   ]
  },
  {
   "cell_type": "markdown",
   "metadata": {},
   "source": [
    "In a supported web-browser (Firefox or Chrome), navigate to https://simularium.allencell.org/ and import your file into the view."
   ]
  },
  {
   "cell_type": "code",
   "execution_count": null,
   "metadata": {},
   "outputs": [],
   "source": []
  }
 ],
 "metadata": {
  "interpreter": {
   "hash": "cd0518bd716f98b7e14424e78f6df8770bae05298fd88758d5e0f75a22535aeb"
  },
  "kernelspec": {
   "display_name": "Python 3.8.10 64-bit (conda)",
   "name": "python3"
  },
  "language_info": {
   "codemirror_mode": {
    "name": "ipython",
    "version": 3
   },
   "file_extension": ".py",
   "mimetype": "text/x-python",
   "name": "python",
   "nbconvert_exporter": "python",
   "pygments_lexer": "ipython3",
   "version": "3.8.12"
  }
 },
 "nbformat": 4,
 "nbformat_minor": 4
}
