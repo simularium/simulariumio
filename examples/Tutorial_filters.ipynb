{
 "cells": [
  {
   "cell_type": "markdown",
   "metadata": {},
   "source": [
    "# Simularium Conversion Tutorial : Filtering Data"
   ]
  },
  {
   "cell_type": "code",
   "execution_count": 1,
   "metadata": {},
   "outputs": [],
   "source": [
    "from IPython.display import Image\n",
    "import numpy as np\n",
    "from simulariumio import FileConverter, TrajectoryData, AgentData, InputFileData\n",
    "from simulariumio.filters import EveryNthAgentFilter"
   ]
  },
  {
   "cell_type": "markdown",
   "metadata": {},
   "source": [
    "This notebook provides example python code for filtering data from a SimulariumIO converter (e.g. to reduce the number of agents or timesteps, or to rotate the scene) before creating a .simularium JSON file which you can drag and drop onto the viewer like this:"
   ]
  },
  {
   "cell_type": "markdown",
   "metadata": {},
   "source": [
    "![title](img/drag_drop.gif)"
   ]
  },
  {
   "cell_type": "markdown",
   "metadata": {},
   "source": [
    "***\n",
    "## Apply filters and save as .simularium JSON file"
   ]
  },
  {
   "cell_type": "markdown",
   "metadata": {},
   "source": [
    "You can apply filters from any converter. For this example, we'll use a `FileConverter` to read data from a .simularium JSON file."
   ]
  },
  {
   "cell_type": "code",
   "execution_count": 2,
   "metadata": {},
   "outputs": [
    {
     "name": "stdout",
     "output_type": "stream",
     "text": [
      "Reading Simularium JSON -------------\n",
      "Updated TrajectoryInfo v1 -> v3\n",
      "original dim = 3 timesteps X 17 agents X 6 subpoints\n"
     ]
    }
   ],
   "source": [
    "c = FileConverter(\n",
    "    InputFileData(\n",
    "        file_path=\"../simulariumio/tests/data/cytosim/aster_pull3D_couples_actin_solid_3_frames\"\n",
    "                  \"/aster_pull3D_couples_actin_solid_3_frames.json\",\n",
    "    )\n",
    ")"
   ]
  },
  {
   "cell_type": "markdown",
   "metadata": {},
   "source": [
    "To reduce the number of agents, use `EveryNthAgentFilter` by providing it to `filter_data()`: ([see Filters documentation](https://allen-cell-animated.github.io/simulariumio/simulariumio.filters.html))"
   ]
  },
  {
   "cell_type": "code",
   "execution_count": 3,
   "metadata": {},
   "outputs": [
    {
     "name": "stdout",
     "output_type": "stream",
     "text": [
      "Filtering: every Nth agent -------------\n",
      "filtered dims = 3 timesteps X 12 agents X 6 subpoints\n",
      "Writing JSON (external)-------------\n",
      "Converting Trajectory Data -------------\n",
      "saved to example_filter_reduce.simularium\n"
     ]
    }
   ],
   "source": [
    "filtered_data = c.filter_data([\n",
    "    EveryNthAgentFilter(\n",
    "        n_per_type={\n",
    "            \"microtubule\": 3,\n",
    "            \"actin\": 1,\n",
    "            \"vesicle\": 2,\n",
    "            \"dynein\": 2,\n",
    "            \"motor complex\": 1,\n",
    "        },\n",
    "        default_n=2,\n",
    "    ),\n",
    "])\n",
    "c.write_external_JSON(filtered_data, \"example_filter_reduce\")"
   ]
  },
  {
   "cell_type": "markdown",
   "metadata": {},
   "source": [
    "## Visualize in the Simularium viewer"
   ]
  },
  {
   "cell_type": "markdown",
   "metadata": {},
   "source": [
    "In a supported web-browser (Firefox or Chrome), navigate to https://simularium.allencell.org/ and import your file into the view."
   ]
  },
  {
   "cell_type": "code",
   "execution_count": null,
   "metadata": {},
   "outputs": [],
   "source": []
  }
 ],
 "metadata": {
  "kernelspec": {
   "display_name": "Python 3 (ipykernel)",
   "language": "python",
   "name": "python3"
  },
  "language_info": {
   "codemirror_mode": {
    "name": "ipython",
    "version": 3
   },
   "file_extension": ".py",
   "mimetype": "text/x-python",
   "name": "python",
   "nbconvert_exporter": "python",
   "pygments_lexer": "ipython3",
   "version": "3.9.7"
  }
 },
 "nbformat": 4,
 "nbformat_minor": 4
}
