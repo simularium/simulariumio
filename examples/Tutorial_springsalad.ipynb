{
 "cells": [
  {
   "cell_type": "markdown",
   "metadata": {},
   "source": [
    "# Simularium Conversion Tutorial : SpringSaLaD Data"
   ]
  },
  {
   "cell_type": "code",
   "execution_count": 1,
   "metadata": {},
   "outputs": [],
   "source": [
    "from IPython.display import Image\n",
    "from simulariumio.springsalad import SpringsaladConverter, SpringsaladData\n",
    "from simulariumio import DisplayData, DISPLAY_TYPE, MetaData, ModelMetaData, InputFileData"
   ]
  },
  {
   "cell_type": "markdown",
   "metadata": {},
   "source": [
    "This notebook provides example python code for converting your own simulation trajectories into the format consumed by the Simularium Viewer. It creates a .simularium file which you can drag and drop onto the viewer like this:"
   ]
  },
  {
   "cell_type": "markdown",
   "metadata": {},
   "source": [
    "![title](img/drag_drop.gif)"
   ]
  },
  {
   "cell_type": "markdown",
   "metadata": {},
   "source": [
    "***\n",
    "## Prepare your spatial data"
   ]
  },
  {
   "cell_type": "markdown",
   "metadata": {},
   "source": [
    "The Simularium `SpringsaladConverter` consumes spatiotemporal data from SpringSaLaD. \n",
    "\n",
    "The converter requires a `SpringsaladData` object as a parameter ([see documentation](https://simularium.github.io/simulariumio/simulariumio.springsalad.html#simulariumio.springsalad.springsalad_data.SpringsaladData).\n",
    "\n",
    "If you'd like to specify PDB or OBJ files or color for rendering an agent type, add a `DisplayData` object for that agent type, as shown below ([see documentation](https://simularium.github.io/simulariumio/simulariumio.data_objects.html#module-simulariumio.data_objects.display_data)).\n"
   ]
  },
  {
   "cell_type": "code",
   "execution_count": 2,
   "metadata": {},
   "outputs": [],
   "source": [
    "example_data = SpringsaladData(\n",
    "    sim_view_txt_file=InputFileData(\n",
    "        file_path=\"../simulariumio/tests/data/springsalad/Simulation0_SIM_VIEW_Run0.txt\",\n",
    "    ),\n",
    "    meta_data=MetaData(\n",
    "        trajectory_title=\"Some parameter set\",\n",
    "        model_meta_data=ModelMetaData(\n",
    "            title=\"Some agent-based model\",\n",
    "            version=\"8.1\",\n",
    "            authors=\"A Modeler\",\n",
    "            description=(\n",
    "                \"An agent-based model run with some parameter set\"\n",
    "            ),\n",
    "            doi=\"10.1016/j.bpj.2016.02.002\",\n",
    "            source_code_url=\"https://github.com/simularium/simulariumio\",\n",
    "            source_code_license_url=\"https://github.com/simularium/simulariumio/blob/main/LICENSE\",\n",
    "            input_data_url=\"https://allencell.org/path/to/native/engine/input/files\",\n",
    "            raw_output_data_url=\"https://allencell.org/path/to/native/engine/output/files\",\n",
    "        ),\n",
    "    ),\n",
    "    display_data={\n",
    "        \"GREEN\": DisplayData(\n",
    "            name=\"Ligand\",\n",
    "            radius=1.0,\n",
    "            display_type=DISPLAY_TYPE.OBJ,\n",
    "            url=\"b.obj\",\n",
    "            color=\"#dfdacd\",\n",
    "        ),\n",
    "        \"RED\": DisplayData(\n",
    "            name=\"Receptor Kinase#B site\",\n",
    "            radius=2.0,\n",
    "            color=\"#0080ff\",\n",
    "        ),\n",
    "        \"GRAY\": DisplayData(\n",
    "            name=\"Receptor Kinase\",\n",
    "            radius=1.0,\n",
    "            display_type=DISPLAY_TYPE.OBJ,\n",
    "            url=\"b.obj\",\n",
    "            color=\"#dfdacd\",\n",
    "        ),\n",
    "        \"CYAN\": DisplayData(\n",
    "            name=\"Receptor Kinase#K site\",\n",
    "            radius=2.0,\n",
    "            color=\"#0080ff\",\n",
    "        ),\n",
    "        \"BLUE\": DisplayData(\n",
    "            name=\"Substrate\",\n",
    "            radius=1.0,\n",
    "            display_type=DISPLAY_TYPE.OBJ,\n",
    "            url=\"b.obj\",\n",
    "            color=\"#dfdacd\",\n",
    "        ),\n",
    "    },\n",
    "    draw_bonds=True,\n",
    ")"
   ]
  },
  {
   "cell_type": "markdown",
   "metadata": {},
   "source": [
    "## Convert and save as .simularium file"
   ]
  },
  {
   "cell_type": "markdown",
   "metadata": {},
   "source": [
    "Once your data is shaped like in the `example_data` object, you can use the converter to generate the file at the given path:"
   ]
  },
  {
   "cell_type": "code",
   "execution_count": 3,
   "metadata": {},
   "outputs": [
    {
     "name": "stdout",
     "output_type": "stream",
     "text": [
      "Reading SpringSaLaD Data -------------\n",
      "Converting Trajectory Data to Binary -------------\n",
      "Writing Binary -------------\n",
      "saved to example_springsalad.simularium\n"
     ]
    }
   ],
   "source": [
    "SpringsaladConverter(example_data).save(\"example_springsalad\")"
   ]
  },
  {
   "cell_type": "markdown",
   "metadata": {},
   "source": [
    "## Visualize in the Simularium viewer"
   ]
  },
  {
   "cell_type": "markdown",
   "metadata": {},
   "source": [
    "In a supported web-browser (Firefox or Chrome), navigate to https://simularium.allencell.org/ and import your file into the view."
   ]
  },
  {
   "cell_type": "code",
   "execution_count": null,
   "metadata": {},
   "outputs": [],
   "source": []
  }
 ],
 "metadata": {
  "kernelspec": {
   "display_name": "Python 3 (ipykernel)",
   "language": "python",
   "name": "python3"
  },
  "language_info": {
   "codemirror_mode": {
    "name": "ipython",
    "version": 3
   },
   "file_extension": ".py",
   "mimetype": "text/x-python",
   "name": "python",
   "nbconvert_exporter": "python",
   "pygments_lexer": "ipython3",
   "version": "3.8.13"
  }
 },
 "nbformat": 4,
 "nbformat_minor": 4
}
