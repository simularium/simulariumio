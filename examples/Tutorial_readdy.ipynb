{
 "cells": [
  {
   "cell_type": "markdown",
   "metadata": {},
   "source": [
    "# Simularium Conversion Tutorial : ReaDDy Data"
   ]
  },
  {
   "cell_type": "code",
   "execution_count": 1,
   "metadata": {},
   "outputs": [],
   "source": [
    "from IPython.display import Image\n",
    "import numpy as np\n",
    "from simulariumio.readdy import ReaddyConverter, ReaddyData\n",
    "from simulariumio import UnitData, MetaData, DisplayData, DISPLAY_TYPE, ModelMetaData"
   ]
  },
  {
   "cell_type": "markdown",
   "metadata": {},
   "source": [
    "This notebook provides example python code for converting your own simulation trajectories into the format consumed by the Simularium Viewer. It creates a .simularium file which you can drag and drop onto the viewer like this:"
   ]
  },
  {
   "cell_type": "markdown",
   "metadata": {},
   "source": [
    "![title](img/drag_drop.gif)"
   ]
  },
  {
   "cell_type": "markdown",
   "metadata": {},
   "source": [
    "***\n",
    "## Prepare your spatial data"
   ]
  },
  {
   "cell_type": "markdown",
   "metadata": {},
   "source": [
    "The Simularium `ReaddyConverter` consumes spatiotemporal data from ReaDDy. \n",
    "\n",
    "The converter requires a `ReaddyData` object as a parameter ([see documentation](https://simularium.github.io/simulariumio/simulariumio.readdy.html#simulariumio.readdy.readdy_data.ReaddyData)).\n",
    "\n",
    "If you'd like to specify PDB or OBJ files or color for rendering an agent type, add a `DisplayData` object for that agent type, as shown below ([see documentation](https://simularium.github.io/simulariumio/simulariumio.data_objects.html#module-simulariumio.data_objects.display_data)).\n"
   ]
  },
  {
   "cell_type": "code",
   "execution_count": 2,
   "metadata": {},
   "outputs": [],
   "source": [
    "box_size = 20.\n",
    "\n",
    "example_data = ReaddyData(\n",
    "    meta_data=MetaData(\n",
    "        box_size=np.array([box_size, box_size, box_size]),\n",
    "        trajectory_title=\"Some parameter set\",\n",
    "        model_meta_data=ModelMetaData(\n",
    "            title=\"Some agent-based model\",\n",
    "            version=\"8.1\",\n",
    "            authors=\"A Modeler\",\n",
    "            description=(\n",
    "                \"An agent-based model run with some parameter set\"\n",
    "            ),\n",
    "            doi=\"10.1016/j.bpj.2016.02.002\",\n",
    "            source_code_url=\"https://github.com/simularium/simulariumio\",\n",
    "            source_code_license_url=\"https://github.com/simularium/simulariumio/blob/main/LICENSE\",\n",
    "            input_data_url=\"https://allencell.org/path/to/native/engine/input/files\",\n",
    "            raw_output_data_url=\"https://allencell.org/path/to/native/engine/output/files\",\n",
    "        ),\n",
    "    ),\n",
    "    timestep=0.1,\n",
    "    path_to_readdy_h5=\"../simulariumio/tests/data/readdy/test.h5\",\n",
    "    display_data={\n",
    "        \"A\": DisplayData(\n",
    "            name=\"C\",\n",
    "            radius=2.0,\n",
    "            display_type=DISPLAY_TYPE.OBJ,\n",
    "            url=\"c.obj\",\n",
    "            color=\"#dfdacd\",\n",
    "        ),\n",
    "        \"B\": DisplayData(\n",
    "            name=\"B\",\n",
    "            radius=2.0,\n",
    "            color=\"#0080ff\",\n",
    "        ),\n",
    "    },\n",
    "    ignore_types=[],  # list \"A\" or \"B\" here to leave that type out of the visualization\n",
    "    time_units=UnitData(\"ns\"),  # nanoseconds\n",
    "    spatial_units=UnitData(\"nm\"),  # nanometers\n",
    ")"
   ]
  },
  {
   "cell_type": "markdown",
   "metadata": {},
   "source": [
    "## Provide orientation data (optional)"
   ]
  },
  {
   "cell_type": "markdown",
   "metadata": {},
   "source": [
    "If you want to calculate particle orientations for rendering PDB or mesh geometry for your ReaDDy topology particles, you can optionally provide orientation data.\n",
    "\n",
    "To match the structure of a complex, e.g. a molecular complex from the [Protein Data Bank](https://www.rcsb.org/), measure the center of each coarse-grained particle you are defining from within the same structure file (e.g. use the biological assembly that includes all the structures your coarse-grained particles are based on). The distances and angles between the coarse-grained particles that you used to enforce potentials in ReaDDy should match the distances and angles between the particle positions you are using in this orientation data.\n",
    "\n",
    "Here is an example of orientation data for a hypothetical D-C-A-B complex:\n",
    "\n",
    "**Note:** Rotation calculation will fail for this example data because it does not include topologies."
   ]
  },
  {
   "cell_type": "code",
   "execution_count": 3,
   "metadata": {},
   "outputs": [],
   "source": [
    "\"\"\"\n",
    "bond lengths:\n",
    "  D - C : 1\n",
    "  C - A : 1\n",
    "  A - B : 2\n",
    "  \n",
    "z = 0\n",
    "\n",
    "y\n",
    "^         A ---- B\n",
    "|         |\n",
    "|    D -- C\n",
    "|\n",
    "|_ _ _ _ > x\n",
    "\"\"\"\n",
    "from simulariumio.readdy import OrientationData, NeighborData\n",
    "\n",
    "example_data.zero_orientations = [\n",
    "    OrientationData(\n",
    "        type_name_substrings=[\"A\"],\n",
    "        neighbor_data=[\n",
    "            NeighborData(\n",
    "                type_name_substrings=[\"B\"],\n",
    "                relative_position=np.array([2, 0, 0]),\n",
    "            ),\n",
    "            NeighborData(\n",
    "                type_name_substrings=[\"C\"],\n",
    "                relative_position=np.array([0, -1, 0]),\n",
    "                neighbor_type_name_substrings=[\"D\"],\n",
    "                neighbor_relative_position=np.array([-1, -1, 0]),\n",
    "            ),\n",
    "        ],\n",
    "    ),\n",
    "    OrientationData(\n",
    "        type_name_substrings=[\"C\"],\n",
    "        neighbor_data=[\n",
    "            NeighborData(\n",
    "                type_name_substrings=[\"A\"],\n",
    "                relative_position=np.array([0, 1, 0]),\n",
    "            ),\n",
    "            NeighborData(\n",
    "                type_name_substrings=[\"D\"],\n",
    "                relative_position=np.array([-1, 0, 0]),\n",
    "            ),\n",
    "        ],\n",
    "    ),\n",
    "]"
   ]
  },
  {
   "cell_type": "markdown",
   "metadata": {},
   "source": [
    "## Convert and save as .simularium file"
   ]
  },
  {
   "cell_type": "markdown",
   "metadata": {},
   "source": [
    "Once your data is shaped like in the `example_data` object, you can use the converter to generate the file at the given path:"
   ]
  },
  {
   "cell_type": "code",
   "execution_count": 4,
   "metadata": {},
   "outputs": [
    {
     "name": "stdout",
     "output_type": "stream",
     "text": [
      "Reading ReaDDy Data -------------\n",
      "Rotation calculation failed for B: couldn't find matching neighbor in ['A']\n",
      "Rotation calculation failed for B: couldn't find matching neighbor in ['A']\n",
      "Rotation calculation failed for B: couldn't find matching neighbor in ['A']\n",
      "Rotation calculation failed for B: couldn't find matching neighbor in ['A']\n",
      "Rotation calculation failed for B: couldn't find matching neighbor in ['A']\n",
      "Rotation calculation failed for B: couldn't find matching neighbor in ['A']\n",
      "Calculating rotations....\n",
      "Converting Trajectory Data to Binary -------------\n",
      "Writing Binary -------------\n",
      "saved to example_readdy.simularium\n"
     ]
    }
   ],
   "source": [
    "ReaddyConverter(example_data).save(\"example_readdy\")"
   ]
  },
  {
   "cell_type": "markdown",
   "metadata": {},
   "source": [
    "## Visualize in the Simularium viewer"
   ]
  },
  {
   "cell_type": "markdown",
   "metadata": {},
   "source": [
    "In a supported web-browser (Firefox or Chrome), navigate to https://simularium.allencell.org/ and import your file into the view."
   ]
  },
  {
   "cell_type": "code",
   "execution_count": null,
   "metadata": {},
   "outputs": [],
   "source": []
  }
 ],
 "metadata": {
  "kernelspec": {
   "display_name": "Python 3 (ipykernel)",
   "language": "python",
   "name": "python3"
  },
  "language_info": {
   "codemirror_mode": {
    "name": "ipython",
    "version": 3
   },
   "file_extension": ".py",
   "mimetype": "text/x-python",
   "name": "python",
   "nbconvert_exporter": "python",
   "pygments_lexer": "ipython3",
   "version": "3.8.13"
  }
 },
 "nbformat": 4,
 "nbformat_minor": 4
}
