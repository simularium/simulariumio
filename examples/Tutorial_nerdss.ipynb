{
 "cells": [
  {
   "cell_type": "markdown",
   "metadata": {},
   "source": [
    "# Simularium Conversion Tutorial : NERDSS PDB Data"
   ]
  },
  {
   "cell_type": "code",
   "execution_count": 1,
   "metadata": {},
   "outputs": [],
   "source": [
    "from IPython.display import Image\n",
    "\n",
    "import numpy as np\n",
    "\n",
    "from simulariumio.nerdss import NerdssConverter, NerdssData\n",
    "from simulariumio import MetaData, DisplayData, DISPLAY_TYPE, CameraData, UnitData\n",
    "from simulariumio.filters import TranslateFilter\n",
    "from simulariumio.writers import JsonWriter\n",
    "\n"
   ]
  },
  {
   "cell_type": "markdown",
   "metadata": {},
   "source": [
    "This notebook provides example python code for converting your own simulation trajectories into the format consumed by the Simularium Viewer. It creates a .simularium file which you can drag and drop onto the viewer like this:"
   ]
  },
  {
   "cell_type": "markdown",
   "metadata": {},
   "source": [
    "![title](img/drag_drop.gif)"
   ]
  },
  {
   "cell_type": "markdown",
   "metadata": {},
   "source": [
    "# _Note:_\n",
    "To install simulariumio with all depencies needed for Nerdss, use `pip install simulariumio[nerdss]`"
   ]
  },
  {
   "cell_type": "markdown",
   "metadata": {},
   "source": [
    "***\n",
    "## Prepare your spatial data"
   ]
  },
  {
   "cell_type": "markdown",
   "metadata": {},
   "source": [
    "The Simularium `NerdssConverter` consumes spatiotemporal data from NERDSS outputs using the MDAnalysis Python package. \n",
    "\n",
    "The converter requires a `NerdssData` object as a parameter ([see documentation](https://simularium.github.io/simulariumio/simulariumio.nerdss.html#simulariumio.nerdss.nerdss_data.NerdssData))\n",
    "\n",
    "If you'd like to specify radii or color for rendering an agent type, add a `DisplayData` object for that agent type, as shown below ([see documentation](https://simularium.github.io/simulariumio/simulariumio.data_objects.html#module-simulariumio.data_objects.display_data)).\n"
   ]
  },
  {
   "cell_type": "code",
   "execution_count": 2,
   "metadata": {},
   "outputs": [],
   "source": [
    "box_size = 150.\n",
    "\n",
    "example_data = NerdssData(\n",
    "    path_to_pdb_files=\"../simulariumio/tests/data/nerdss/virus_pdb\",\n",
    "    meta_data=MetaData(\n",
    "        box_size=np.array([box_size, box_size, box_size]),\n",
    "        trajectory_title=\"Some parameter set\",\n",
    "        camera_defaults=CameraData(position=np.array([0, 0, 200]))\n",
    "    ),\n",
    "    display_data={\n",
    "        \"gag#COM\": DisplayData(\n",
    "            name=\"GAG - Center of Mass\",\n",
    "            display_type=DISPLAY_TYPE.SPHERE,\n",
    "            color=\"#0000FF\",\n",
    "        ),\n",
    "        \"pol#COM\": DisplayData(\n",
    "            name=\"POL - Center of Mass\",\n",
    "            display_type=DISPLAY_TYPE.SPHERE,\n",
    "            color=\"#FF00FF\",\n",
    "        ),\n",
    "        \"bonds\": DisplayData(\n",
    "            name=\"Bond\",\n",
    "            display_type=DISPLAY_TYPE.FIBER,\n",
    "        ),\n",
    "    },\n",
    "    time_units=UnitData(\"us\", 0.2),\n",
    ")"
   ]
  },
  {
   "cell_type": "markdown",
   "metadata": {},
   "source": [
    "## Convert and save as .simularium file"
   ]
  },
  {
   "cell_type": "markdown",
   "metadata": {},
   "source": [
    "Once your data is shaped like in the `example_data` object, you can use the converter to generate the file at the given path:\n",
    "\n",
    "(since this model's coordinates are all positive, use a `TranslateFilter` to center the data in the viewer.)"
   ]
  },
  {
   "cell_type": "code",
   "execution_count": null,
   "metadata": {},
   "outputs": [],
   "source": [
    "converter = NerdssConverter(example_data)\n",
    "# this _filter is just roughly centering the data in the box\n",
    "_filter = TranslateFilter(default_translation=np.array([-80.0, -80.0, -80.0]))\n",
    "filtered_data = converter.filter_data([_filter])\n",
    "JsonWriter.save(filtered_data, \"example_virus\", False)"
   ]
  },
  {
   "cell_type": "markdown",
   "metadata": {},
   "source": [
    "## Visualize in the Simularium viewer"
   ]
  },
  {
   "cell_type": "markdown",
   "metadata": {},
   "source": [
    "In a supported web-browser (Firefox or Chrome), navigate to https://simularium.allencell.org/ and import your file into the view."
   ]
  },
  {
   "cell_type": "code",
   "execution_count": null,
   "metadata": {},
   "outputs": [],
   "source": []
  }
 ],
 "metadata": {
  "kernelspec": {
   "display_name": "Python 3",
   "language": "python",
   "name": "python3"
  },
  "language_info": {
   "codemirror_mode": {
    "name": "ipython",
    "version": 3
   },
   "file_extension": ".py",
   "mimetype": "text/x-python",
   "name": "python",
   "nbconvert_exporter": "python",
   "pygments_lexer": "ipython3",
   "version": "3.9.16"
  },
  "vscode": {
   "interpreter": {
    "hash": "31f2aee4e71d21fbe5cf8b01ff0e069b9275f58929596ceb00d14d90e3e16cd6"
   }
  }
 },
 "nbformat": 4,
 "nbformat_minor": 4
}
